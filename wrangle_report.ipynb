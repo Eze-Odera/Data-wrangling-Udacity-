{
 "cells": [
  {
   "cell_type": "code",
   "execution_count": null,
   "id": "b90a4f68-03ba-449f-a298-f9d65c6ef07c",
   "metadata": {},
   "outputs": [],
   "source": []
  },
  {
   "cell_type": "markdown",
   "id": "6f967232-3eb4-4309-85e1-3e0a3e8c4cde",
   "metadata": {},
   "source": [
    "I outlined the wrangling effort i made to assemble and clean the data WeRateDogs Twitter Archieve"
   ]
  },
  {
   "cell_type": "markdown",
   "id": "b036e1aa-b153-4b1d-80c2-fb0de8e9cbac",
   "metadata": {},
   "source": [
    "### Project Steps Overview The tasks in this project are as follows:"
   ]
  },
  {
   "cell_type": "markdown",
   "id": "d6708b4c-c1c8-417f-9d88-7d52e3ccb5fa",
   "metadata": {},
   "source": [
    "Step 1: Gathering data\n",
    "\n",
    "Step 2: Assessing data\n",
    "\n",
    "Step 3: Cleaning data\n",
    "\n",
    "Step 4: Storing data\n",
    "\n",
    "Step 5: Analyzing, and visualizing data\n",
    "\n",
    "Step 6: Reporting"
   ]
  },
  {
   "cell_type": "markdown",
   "id": "83242238-80e2-4719-9666-309764225a0f",
   "metadata": {},
   "source": [
    "## Step 1: Gathering data"
   ]
  },
  {
   "cell_type": "markdown",
   "id": "bea2d15d-d339-4012-8bb9-3d3857aa914e",
   "metadata": {},
   "source": [
    "I gathered data from 3 sources stored in separate file"
   ]
  },
  {
   "cell_type": "markdown",
   "id": "f688bc44-dec0-4876-a702-d9febc87ce1d",
   "metadata": {},
   "source": [
    "- WeRateDogs Twitter archive, download manually from the Udacity servers"
   ]
  },
  {
   "cell_type": "markdown",
   "id": "198e1ef9-762f-4797-b229-d213fc7c7ce0",
   "metadata": {},
   "source": [
    "- Image Predictions file, is hosted on Udacity servers and is downloaded programmatical using the request library and the URL below: \"https://d17h27t6h515a5.cloudfront.net/topher/2017/August/599fd2ad_image-predictions/image-predictions.tsv\""
   ]
  },
  {
   "cell_type": "markdown",
   "id": "9756f428-0159-4784-a5e9-c3b7f29ec3cc",
   "metadata": {},
   "source": [
    "- This data was gotten from twitter by querying the Twitter API using Python's Tweepy library to get the entire set of JSON data for each of the tweets in the WeRateDogs Twitter archive."
   ]
  },
  {
   "cell_type": "markdown",
   "id": "e4be1d93-2117-4474-bf6b-8b9396e3d65e",
   "metadata": {},
   "source": [
    "## Step 2: Assessing Data"
   ]
  },
  {
   "cell_type": "markdown",
   "id": "daf2f45c-83b1-4532-b086-59b36daba213",
   "metadata": {},
   "source": [
    "I assessed the data by viewing the information on the archive table first, identifying several quality and tidiness issues.\n",
    "I also assessed it programmatically"
   ]
  },
  {
   "cell_type": "markdown",
   "id": "7c0591a7-ccd2-4186-947f-69ea121cdb74",
   "metadata": {},
   "source": [
    "## Step : Cleaning"
   ]
  },
  {
   "cell_type": "markdown",
   "id": "ae3a61fe-dd9d-4276-b36e-32023fa4f321",
   "metadata": {},
   "source": [
    "- Prepare a Working Copy of each Seperate Dataset"
   ]
  },
  {
   "cell_type": "markdown",
   "id": "2573111a-d8a0-4d1f-842c-34e15baa2b98",
   "metadata": {},
   "source": [
    "- Taking Only Necessary Columns"
   ]
  },
  {
   "cell_type": "markdown",
   "id": "a5e88874-dbbf-4d4c-a6c5-eae5a8c80779",
   "metadata": {},
   "source": [
    "'tweet_id', 'timestamp', 'source', 'text',\n",
    "                           'expanded_urls', 'rating_numerator',\n",
    "                           'rating_denominator', 'name', 'doggo', 'floofer', 'pupper', 'puppo'"
   ]
  },
  {
   "cell_type": "markdown",
   "id": "8d550f5d-85bf-4bb1-ba8d-b7f2b272d565",
   "metadata": {},
   "source": [
    "- Converted timestamp to datetime data type"
   ]
  },
  {
   "cell_type": "markdown",
   "id": "efeb5a76-a357-4c59-b077-92c8f133f489",
   "metadata": {},
   "source": [
    "- Replace the source string with the display portion of itself."
   ]
  },
  {
   "cell_type": "markdown",
   "id": "03d35a58-a695-45c5-9758-5565770d14fd",
   "metadata": {},
   "source": [
    "    - Twitter for iPhone     2221\n",
    "    - Vine - Make a Scene      91\n",
    "    - Twitter Web Client       33\n",
    "    - TweetDeck                11"
   ]
  },
  {
   "cell_type": "markdown",
   "id": "9ea14185-d74c-4ba1-8557-6aaa27bc7519",
   "metadata": {},
   "source": [
    "- Drop tweets with missing data in the expanded_urls"
   ]
  },
  {
   "cell_type": "markdown",
   "id": "608b664b-6c6c-45dd-a390-d206e972a895",
   "metadata": {},
   "source": [
    "- Assign 10 to rating denominator rating values and drop the remaining"
   ]
  },
  {
   "cell_type": "markdown",
   "id": "8f089b7c-8223-4449-809d-7eb7957c91ca",
   "metadata": {},
   "source": [
    "- Drop tweets that have rating_numerator >= 15."
   ]
  },
  {
   "cell_type": "markdown",
   "id": "3276aadf-5d6b-4cd8-a0d6-636d6be4aba1",
   "metadata": {},
   "source": [
    "- Merged the dog_stage to one"
   ]
  },
  {
   "cell_type": "markdown",
   "id": "bcf956c8-1964-4134-a389-0a4fd93c32e0",
   "metadata": {},
   "source": [
    "### Image prediction"
   ]
  },
  {
   "cell_type": "markdown",
   "id": "5d08044b-3834-4f28-8bcb-dcfcb2f9de41",
   "metadata": {},
   "source": [
    "Created two new columns; breed and confidence: checkd each dog breed in order (p1_dog, p2_dog, p3_dog), and picked the breed with the highest confidence level to be copied into the breed column. I also Copied the associated confidence level into the new confidence column. For cases where all 3 prediction flags are False (NOT a valid dog breed), set breed as 'none' and confidence to 0."
   ]
  },
  {
   "cell_type": "markdown",
   "id": "5ab5abb7-09ab-4099-aeb1-6d67ac01612b",
   "metadata": {},
   "source": [
    "Merged the new breed and confidence columns into the twitter archive table, using an 'inner' join so that we are left with only tweets with images. Now we can fix the confidence column; round the values up to a whole number in percentage format."
   ]
  },
  {
   "cell_type": "code",
   "execution_count": null,
   "id": "dd5f0549-1e15-46c3-80b6-23616fcfde49",
   "metadata": {},
   "outputs": [],
   "source": []
  },
  {
   "cell_type": "markdown",
   "id": "9310de06-6f55-45c6-b0de-fd54ba1caab2",
   "metadata": {},
   "source": [
    "- Renaming the column names. This will be of help when we wish to merge the data"
   ]
  },
  {
   "cell_type": "markdown",
   "id": "e7da935f-5f00-417b-af68-9d87ab1c3b2e",
   "metadata": {},
   "source": [
    "## Step 4 : Storing and Merging "
   ]
  },
  {
   "cell_type": "markdown",
   "id": "27889128-3934-4c7f-8b98-df0345980f7e",
   "metadata": {},
   "source": [
    "I just combined all the data set into one frame"
   ]
  },
  {
   "cell_type": "markdown",
   "id": "ccfb7fc2-5df6-40f5-aaef-8156fa3e2e0c",
   "metadata": {},
   "source": [
    "I stored the new data as 'twitter_archieve_master_new.csv'"
   ]
  },
  {
   "cell_type": "markdown",
   "id": "b4b7cea6-1871-46a0-ab34-dff140b46951",
   "metadata": {},
   "source": [
    "## Step 5: ANALYSIS AND VISUALIZATION"
   ]
  },
  {
   "cell_type": "markdown",
   "id": "96bc4473-1985-4385-a9ad-1a1037ba6620",
   "metadata": {},
   "source": [
    "- I read the new data into the data frame "
   ]
  },
  {
   "cell_type": "markdown",
   "id": "6631b4f9-7fe4-4e87-8e2c-02b1e7d2c953",
   "metadata": {},
   "source": [
    "Top 10 Breed and number of tweets\n",
    "\n",
    "- golden_retriever      164\n",
    "- Labrador_retriever    109\n",
    "- Chihuahua              95\n",
    "- Pembroke               95\n",
    "- pug                    65\n",
    "- toy_poodle             52\n",
    "- chow                   50\n",
    "- Samoyed                46\n",
    "- Pomeranian             41\n",
    "- cocker_spaniel         34"
   ]
  },
  {
   "cell_type": "code",
   "execution_count": 1,
   "id": "75395cd5-edb6-4c1e-8133-f37b2e88a0bb",
   "metadata": {},
   "outputs": [],
   "source": [
    "import pandas as pd\n",
    "import matplotlib.pyplot as plt"
   ]
  },
  {
   "cell_type": "code",
   "execution_count": 2,
   "id": "6de124d6-092d-4ef1-bff5-bbeae8407b6f",
   "metadata": {},
   "outputs": [],
   "source": [
    "dfwrangled = pd.read_csv('twitter_archieve_master.csv')"
   ]
  },
  {
   "cell_type": "code",
   "execution_count": 3,
   "id": "5f00768a-7fcf-4829-a8f5-e5e77442cb79",
   "metadata": {},
   "outputs": [
    {
     "data": {
      "image/png": "[encoded data removed]",
      "text/plain": [
       "<Figure size 432x288 with 1 Axes>"
      ]
     },
     "metadata": {
      "needs_background": "light"
     },
     "output_type": "display_data"
    }
   ],
   "source": [
    "dfwrangled['rating_numerator'].plot(kind = 'hist', bins = 15)\n",
    "\n",
    "plt.xlim(0, 15)\n",
    "plt.ylabel('Number of Tweets', fontsize = 14)\n",
    "plt.xlabel('Rating', fontsize = 14)\n",
    "plt.title('Distribution of Ratings', fontsize = 16)\n",
    "plt.rcParams['figure.figsize'] = (8, 5)\n",
    "plt.show();"
   ]
  },
  {
   "cell_type": "markdown",
   "id": "8a687a6c-af4b-496e-a2e3-3ab2397a553d",
   "metadata": {},
   "source": [
    "The distribution of ratings is very skewed to the left. From the descriptive statistics above we see that 75% of all ratings are between 10 and 14 inclusive (the IQR is from 10 to 12)."
   ]
  },
  {
   "cell_type": "code",
   "execution_count": null,
   "id": "2d556a33-e90d-4bb2-83e8-3a2c857b4345",
   "metadata": {},
   "outputs": [],
   "source": []
  }
 ],
 "metadata": {
  "kernelspec": {
   "display_name": "Python 3 (ipykernel)",
   "language": "python",
   "name": "python3"
  },
  "language_info": {
   "codemirror_mode": {
    "name": "ipython",
    "version": 3
   },
   "file_extension": ".py",
   "mimetype": "text/x-python",
   "name": "python",
   "nbconvert_exporter": "python",
   "pygments_lexer": "ipython3",
   "version": "3.8.13"
  }
 },
 "nbformat": 4,
 "nbformat_minor": 5
}
