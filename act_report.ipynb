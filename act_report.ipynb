{
 "cells": [
  {
   "cell_type": "markdown",
   "id": "f05c909e-2313-4c6c-9975-8d3340e452d1",
   "metadata": {
    "tags": []
   },
   "source": [
    "# The We Rate Dogs Twitter Archive - Act Report"
   ]
  },
  {
   "cell_type": "markdown",
   "id": "20cf701e-d992-410d-b20a-60f652c06655",
   "metadata": {},
   "source": [
    "The WeRateDogs Enhanced Twitter archive contains data extracted from over 5000 + tweets from the dogRate twitter account. This data consist of dog ratings that were taken from the text of the tweet along with the dog stage if present."
   ]
  },
  {
   "cell_type": "markdown",
   "id": "61b41fb2-54c1-4d6f-be4d-304ed82f9fc3",
   "metadata": {},
   "source": [
    "The retweet count and favourite count for each tweet were not included in the archieve so i had to download it from the twitter account using the tweet ID from the archive."
   ]
  },
  {
   "cell_type": "markdown",
   "id": "a4c07101-a24c-4472-8091-996952132a8c",
   "metadata": {},
   "source": [
    "Project Steps Overview The tasks in this project are as follows:\n",
    "\n",
    "Step 1: Gathering data\n",
    "\n",
    "Step 2: Assessing data\n",
    "\n",
    "Step 3: Cleaning data\n",
    "\n",
    "Step 4: Storing data\n",
    "\n",
    "Step 5: Analyzing, and visualizing data\n",
    "\n",
    "Step 6: Reporting"
   ]
  },
  {
   "cell_type": "markdown",
   "id": "8e3b28bf-4c6d-4c63-9871-cfe0f9df773c",
   "metadata": {},
   "source": [
    "Along with the Twitter data, i also downloaded an image predictions file from Udacity servers"
   ]
  },
  {
   "cell_type": "markdown",
   "id": "746d63ad-7c06-4827-ac78-e9b056b39265",
   "metadata": {},
   "source": [
    "The goal of this project is to wrangle the data, gather, assess, clean and tidy the dataset in other to provide meaningful and intelligent analyses and visualizations."
   ]
  },
  {
   "cell_type": "markdown",
   "id": "6dc8f350-35c1-4886-b0fd-94537de38dea",
   "metadata": {},
   "source": [
    "Before i could begin the analysis, the data had to be wrangled into shape to make it easier. I assessed the data both visually and programmatically for quality and tidiness isssues.\n",
    "\n",
    "The quality of a data is determined mainly by looking at several aspects or dimensions to ensure that it is complete, valid, accurate and consistent."
   ]
  },
  {
   "cell_type": "markdown",
   "id": "49e2ddef-5d20-48f3-8caa-24151c389677",
   "metadata": {},
   "source": [
    "OBSERVATIONS\n",
    "QUALITY\n",
    "Twitter Archieve\n",
    "Retweeted columns are not needed\n",
    "\n",
    "in_reply_to_status_id and the in_reply_to_user_id not needed\n",
    "\n",
    "Timestamp column needs to be a datetime variable\n",
    "\n",
    "There are only 4 types of values in the source column, and they can be simplified by using the display string portion just before the final \"<\\a>\":\n",
    "\n",
    "Twitter for iPhone\n",
    "Vine - Make a Scene\n",
    "Twitter Web Client\n",
    "TweetDeck\n",
    "Tweets with missing data in expanded_urls (links to the tweet).\n",
    "\n",
    "The rating denominator needs to be fixed\n",
    "\n",
    "the rating numerator needs to be fixed\n",
    "\n",
    "Image Prediction\n",
    "There are 2075 image predictions, 281 less than the number of tweets in the archive, so will be classified as \"missing data\".\n",
    "Tweet JSON File\n",
    "Set the tweet _id to string with astype()\n",
    "TIDINESS\n",
    "The Key Points indicates that we’re only interested in “original tweets”, no “retweets”; this data is stored in the columns retweeted_status_id, retweeted_status_user_id, retweeted_status_timestamp.\n",
    "Reply tweets are also not “original tweets” either; this data is stored in the columns in_reply_to_status_id, in_reply_to_user_id.\n",
    "There are 4 columns for dog stages (doggo, floofer, pupper, puppo). The 4 columns for one variable doesn't conform to the rules of \"tidy data\".\n",
    "Image Prediction\n",
    "The dog breed prediction and associated confidence level can be combined with the archive table; these will provide additional data about the dog in the tweet based on the tweet's image.\n",
    "Tweet JSON\n",
    "Renaming the column names. This will be of help when we wish to merge the data\n",
    "Change tweet_id from number to string for all data set. This will help when we will be merging the data. For consistency"
   ]
  },
  {
   "cell_type": "markdown",
   "id": "c85b908e-dee8-4616-b907-492019c0daf8",
   "metadata": {},
   "source": [
    "Here i am going to be inspecting the dataset for two things:\n",
    "\n",
    "Data quality issues (i.e. content issues)\n",
    "Lack of tidiness (i.e. Structural issues)"
   ]
  },
  {
   "cell_type": "markdown",
   "id": "8ea2af61-fa97-4f20-8314-b7238d92b909",
   "metadata": {},
   "source": [
    "After cleaning many of the issues there were about 2040 tweets with goood qualiity data."
   ]
  },
  {
   "cell_type": "markdown",
   "id": "53e22483-7838-42a2-a818-d6ea963a4913",
   "metadata": {},
   "source": [
    "I Created two new columns; breed and confidence: checked each dog breed in order (p1_dog, p2_dog, p3_dog), and picked the breed with the highest confidence level to be copied into the breed column. \n",
    "I Copied the associated confidence level into the new confidence column. \n",
    "For cases where all 3 prediction flags are False (NOT a valid dog breed), set breed as 'none' and confidence to 0.\n",
    "This new columns helped my analysis"
   ]
  },
  {
   "cell_type": "markdown",
   "id": "906762cb-9a3a-4e59-9745-b23527f185c1",
   "metadata": {},
   "source": [
    "The new breed and confidence columns were merged into the twitter archive table, using an 'inner' join so that we are left with only tweets with images. "
   ]
  },
  {
   "cell_type": "markdown",
   "id": "74d3758b-d925-4260-9171-da638f5cd1f6",
   "metadata": {},
   "source": [
    "I renamed most of the columns to make merging possible"
   ]
  },
  {
   "cell_type": "code",
   "execution_count": null,
   "id": "647fadfe-a93f-4a76-bc72-c9b426ac31cb",
   "metadata": {},
   "outputs": [],
   "source": []
  },
  {
   "cell_type": "code",
   "execution_count": null,
   "id": "d5940cc5-42fb-4b26-9099-e424f03cd4cc",
   "metadata": {},
   "outputs": [],
   "source": []
  },
  {
   "cell_type": "markdown",
   "id": "addbcb3a-a768-448d-a6ee-68ece4a98067",
   "metadata": {},
   "source": [
    "## Insights"
   ]
  },
  {
   "cell_type": "markdown",
   "id": "105a1cc5-27a4-47a1-86f0-403a16ff1029",
   "metadata": {},
   "source": [
    "- The distribution of ratings is very skewed to the left. From the descriptive statistics above we see that 75% of all ratings are between 10 and 14 inclusive (the IQR is from 10 to 12)."
   ]
  },
  {
   "cell_type": "markdown",
   "id": "ce3a45dd-9040-4515-a95c-1bfae1b29d10",
   "metadata": {},
   "source": [
    "- Most common dog stage"
   ]
  },
  {
   "cell_type": "markdown",
   "id": "d94fab2e-ff56-49dc-8914-0479c32c1c24",
   "metadata": {},
   "source": [
    "    - pupper      209\n",
    "    - doggo        67\n",
    "    - puppo        23\n",
    "    - floofer       7"
   ]
  },
  {
   "cell_type": "markdown",
   "id": "ac5ab07a-950d-492f-9d17-63d536da8e25",
   "metadata": {},
   "source": [
    "- Top 10 most common breed "
   ]
  },
  {
   "cell_type": "markdown",
   "id": "6eb51020-0e68-4f32-9747-4819f89c92c3",
   "metadata": {},
   "source": [
    "Top 10 Breed and number of tweets\n",
    "\n",
    "    - golden_retriever      164\n",
    "    - Labrador_retriever    109\n",
    "    - Chihuahua              95\n",
    "    - Pembroke               95\n",
    "    - pug                    65\n",
    "    - toy_poodle             52\n",
    "    - chow                   50\n",
    "    - Samoyed                46\n",
    "    - Pomeranian             41\n",
    "    - cocker_spaniel         34"
   ]
  },
  {
   "cell_type": "markdown",
   "id": "07d27127-64a5-4a50-b382-41239511e20f",
   "metadata": {},
   "source": [
    "The most common dog that is tweeted about, with more than 160 tweets, is the Golden Retriever. Labrador Retrievers, Pembrokes and Chihuahuas are fairly close together in 2nd, 3rd, and 4th place."
   ]
  },
  {
   "cell_type": "markdown",
   "id": "25bd35e5-ae6e-4f49-95d2-56960f160b47",
   "metadata": {},
   "source": [
    "There is a strong relationship between favourite count and retweet;\n",
    "Ploting the two against each other shows a high correlation by the very tight collection of point along the angled straight line."
   ]
  },
  {
   "cell_type": "code",
   "execution_count": 1,
   "id": "b1b648d9-98e8-4d8b-89d3-81147014f148",
   "metadata": {},
   "outputs": [],
   "source": [
    "import pandas as pd\n",
    "import matplotlib.pyplot as plt"
   ]
  },
  {
   "cell_type": "code",
   "execution_count": 2,
   "id": "e079b649-54fe-4f74-9512-f3cb2ccdb113",
   "metadata": {},
   "outputs": [],
   "source": [
    "dfwrangled = pd.read_csv('twitter_archieve_master.csv')"
   ]
  },
  {
   "cell_type": "code",
   "execution_count": 3,
   "id": "d1ec7ce5-78ab-4c99-909d-9afbf1d62a96",
   "metadata": {},
   "outputs": [
    {
     "data": {
      "text/plain": [
       "Text(0.5, 1.0, 'Retweets and Favorites Plot')"
      ]
     },
     "execution_count": 3,
     "metadata": {},
     "output_type": "execute_result"
    },
    {
     "data": {
      "image/png": "[encoded data removed]",
      "text/plain": [
       "<Figure size 504x504 with 1 Axes>"
      ]
     },
     "metadata": {
      "needs_background": "light"
     },
     "output_type": "display_data"
    }
   ],
   "source": [
    "dfwrangled.plot(kind = \"scatter\", x = \"likes\", y = \"retweets\", alpha = 0.7, figsize = (7,7), color = 'red')\n",
    "plt.xlabel('Favorites')\n",
    "plt.ylabel('Retweets')\n",
    "plt.title('Retweets and Favorites Plot')"
   ]
  },
  {
   "cell_type": "markdown",
   "id": "9ec566a1-8a42-457e-abd2-3a9cecfcb8f0",
   "metadata": {},
   "source": [
    "- Most retweeted tweet till data (Top 5)"
   ]
  },
  {
   "cell_type": "code",
   "execution_count": null,
   "id": "ceea50b3-8321-4f92-be1e-0b617ba75ae0",
   "metadata": {},
   "outputs": [],
   "source": []
  },
  {
   "cell_type": "code",
   "execution_count": null,
   "id": "7b3a3955-6ed1-41e8-af0a-24ab63bce0ac",
   "metadata": {},
   "outputs": [],
   "source": []
  },
  {
   "cell_type": "code",
   "execution_count": null,
   "id": "bce6da88-b259-442a-ab10-18735a4772d9",
   "metadata": {},
   "outputs": [],
   "source": []
  }
 ],
 "metadata": {
  "kernelspec": {
   "display_name": "Python 3 (ipykernel)",
   "language": "python",
   "name": "python3"
  },
  "language_info": {
   "codemirror_mode": {
    "name": "ipython",
    "version": 3
   },
   "file_extension": ".py",
   "mimetype": "text/x-python",
   "name": "python",
   "nbconvert_exporter": "python",
   "pygments_lexer": "ipython3",
   "version": "3.8.13"
  }
 },
 "nbformat": 4,
 "nbformat_minor": 5
}
